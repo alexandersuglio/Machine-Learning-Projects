{
  "nbformat": 4,
  "nbformat_minor": 0,
  "metadata": {
    "colab": {
      "provenance": []
    },
    "kernelspec": {
      "name": "python3",
      "display_name": "Python 3"
    },
    "language_info": {
      "name": "python"
    }
  },
  "cells": [
    {
      "cell_type": "code",
      "execution_count": 1,
      "metadata": {
        "colab": {
          "base_uri": "https://localhost:8080/"
        },
        "collapsed": true,
        "id": "o0cS0yEstrEK",
        "outputId": "c94c362c-fc92-40bb-9648-f217530dd064"
      },
      "outputs": [
        {
          "output_type": "stream",
          "name": "stdout",
          "text": [
            "  Preparing metadata (setup.py) ... \u001b[?25l\u001b[?25hdone\n",
            "\u001b[2K     \u001b[90m━━━━━━━━━━━━━━━━━━━━━━━━━━━━━━━━━━━━━━━━\u001b[0m \u001b[32m7.4/7.4 MB\u001b[0m \u001b[31m15.7 MB/s\u001b[0m eta \u001b[36m0:00:00\u001b[0m\n",
            "\u001b[?25h  Preparing metadata (setup.py) ... \u001b[?25l\u001b[?25hdone\n",
            "  Preparing metadata (setup.py) ... \u001b[?25l\u001b[?25hdone\n",
            "  Preparing metadata (setup.py) ... \u001b[?25l\u001b[?25hdone\n",
            "\u001b[2K   \u001b[90m━━━━━━━━━━━━━━━━━━━━━━━━━━━━━━━━━━━━━━━━\u001b[0m \u001b[32m211.1/211.1 kB\u001b[0m \u001b[31m5.9 MB/s\u001b[0m eta \u001b[36m0:00:00\u001b[0m\n",
            "\u001b[2K   \u001b[90m━━━━━━━━━━━━━━━━━━━━━━━━━━━━━━━━━━━━━━━━\u001b[0m \u001b[32m363.4/363.4 MB\u001b[0m \u001b[31m3.7 MB/s\u001b[0m eta \u001b[36m0:00:00\u001b[0m\n",
            "\u001b[2K   \u001b[90m━━━━━━━━━━━━━━━━━━━━━━━━━━━━━━━━━━━━━━━━\u001b[0m \u001b[32m13.8/13.8 MB\u001b[0m \u001b[31m60.8 MB/s\u001b[0m eta \u001b[36m0:00:00\u001b[0m\n",
            "\u001b[2K   \u001b[90m━━━━━━━━━━━━━━━━━━━━━━━━━━━━━━━━━━━━━━━━\u001b[0m \u001b[32m24.6/24.6 MB\u001b[0m \u001b[31m50.0 MB/s\u001b[0m eta \u001b[36m0:00:00\u001b[0m\n",
            "\u001b[2K   \u001b[90m━━━━━━━━━━━━━━━━━━━━━━━━━━━━━━━━━━━━━━━━\u001b[0m \u001b[32m883.7/883.7 kB\u001b[0m \u001b[31m42.0 MB/s\u001b[0m eta \u001b[36m0:00:00\u001b[0m\n",
            "\u001b[2K   \u001b[90m━━━━━━━━━━━━━━━━━━━━━━━━━━━━━━━━━━━━━━━━\u001b[0m \u001b[32m664.8/664.8 MB\u001b[0m \u001b[31m2.8 MB/s\u001b[0m eta \u001b[36m0:00:00\u001b[0m\n",
            "\u001b[2K   \u001b[90m━━━━━━━━━━━━━━━━━━━━━━━━━━━━━━━━━━━━━━━━\u001b[0m \u001b[32m211.5/211.5 MB\u001b[0m \u001b[31m5.4 MB/s\u001b[0m eta \u001b[36m0:00:00\u001b[0m\n",
            "\u001b[2K   \u001b[90m━━━━━━━━━━━━━━━━━━━━━━━━━━━━━━━━━━━━━━━━\u001b[0m \u001b[32m56.3/56.3 MB\u001b[0m \u001b[31m12.6 MB/s\u001b[0m eta \u001b[36m0:00:00\u001b[0m\n",
            "\u001b[2K   \u001b[90m━━━━━━━━━━━━━━━━━━━━━━━━━━━━━━━━━━━━━━━━\u001b[0m \u001b[32m127.9/127.9 MB\u001b[0m \u001b[31m7.1 MB/s\u001b[0m eta \u001b[36m0:00:00\u001b[0m\n",
            "\u001b[2K   \u001b[90m━━━━━━━━━━━━━━━━━━━━━━━━━━━━━━━━━━━━━━━━\u001b[0m \u001b[32m207.5/207.5 MB\u001b[0m \u001b[31m6.1 MB/s\u001b[0m eta \u001b[36m0:00:00\u001b[0m\n",
            "\u001b[2K   \u001b[90m━━━━━━━━━━━━━━━━━━━━━━━━━━━━━━━━━━━━━━━━\u001b[0m \u001b[32m21.1/21.1 MB\u001b[0m \u001b[31m94.4 MB/s\u001b[0m eta \u001b[36m0:00:00\u001b[0m\n",
            "\u001b[2K   \u001b[90m━━━━━━━━━━━━━━━━━━━━━━━━━━━━━━━━━━━━━━━━\u001b[0m \u001b[32m81.3/81.3 kB\u001b[0m \u001b[31m5.3 MB/s\u001b[0m eta \u001b[36m0:00:00\u001b[0m\n",
            "\u001b[2K   \u001b[90m━━━━━━━━━━━━━━━━━━━━━━━━━━━━━━━━━━━━━━━━\u001b[0m \u001b[32m107.4/107.4 kB\u001b[0m \u001b[31m8.9 MB/s\u001b[0m eta \u001b[36m0:00:00\u001b[0m\n",
            "\u001b[?25h  Building wheel for tinysegmenter (setup.py) ... \u001b[?25l\u001b[?25hdone\n",
            "  Building wheel for feedfinder2 (setup.py) ... \u001b[?25l\u001b[?25hdone\n",
            "  Building wheel for jieba3k (setup.py) ... \u001b[?25l\u001b[?25hdone\n",
            "  Building wheel for sgmllib3k (setup.py) ... \u001b[?25l\u001b[?25hdone\n"
          ]
        }
      ],
      "source": [
        "!pip install transformers newspaper3k torch lxml-html-clean --quiet"
      ]
    },
    {
      "cell_type": "code",
      "source": [
        "from transformers import pipeline\n",
        "from newspaper import Article\n",
        "import requests\n",
        "\n",
        "from bs4 import BeautifulSoup\n",
        "\n",
        "import random\n",
        "\n",
        "from IPython.display import Markdown, display"
      ],
      "metadata": {
        "id": "kQNTUv9nXcRs"
      },
      "execution_count": 6,
      "outputs": []
    },
    {
      "cell_type": "code",
      "source": [
        "# 1. PlannerAgent\n",
        "class PlannerAgent:\n",
        "\n",
        "    def decide_topic(self):\n",
        "\n",
        "        # grown-up topics\n",
        "        topics = [\"Artificial Intelligence\", \"Space Exploration\", \"Climate Change\", \"Cryptocurrency\", \"Finance\", \"Weather\", \"Politics\"]\n",
        "\n",
        "        # fun topics - experimenting with these\n",
        "        # topics = [\"Florida Gators Football Recruiting\", \"Texas Longhorns Recruiting\", \"NBA News\", \"Major League Baseball News\", \"NFL News\"]\n",
        "\n",
        "        return random.choice(topics)\n",
        "\n",
        "\n",
        "# 2. SearcherAgent\n",
        "class SearcherAgent:\n",
        "\n",
        "    def __init__(self):\n",
        "        self.headers = {'User-Agent': 'Mozilla/5.0'}\n",
        "\n",
        "    def search_articles(self, topic, max_articles=3):\n",
        "\n",
        "        query = topic.replace(\" \", \"+\")\n",
        "\n",
        "        url = f\"https://www.google.com/search?q={query}&tbm=nws\"\n",
        "\n",
        "        res = requests.get(url, headers=self.headers)\n",
        "\n",
        "        soup = BeautifulSoup(res.text, \"html.parser\")\n",
        "\n",
        "        links = []\n",
        "\n",
        "        for a in soup.select('a'):\n",
        "\n",
        "            href = a.get('href')\n",
        "\n",
        "            if href and \"http\" in href and \"google.com\" not in href:\n",
        "\n",
        "                if len(links) < max_articles:\n",
        "\n",
        "                    links.append(href.split(\"&\")[0].replace(\"/url?q=\", \"\"))\n",
        "\n",
        "        return links\n",
        "\n",
        "\n",
        "# 3. SummarizerAgent\n",
        "class SummarizerAgent:\n",
        "\n",
        "    def __init__(self):\n",
        "        self.summarizer = pipeline(\"summarization\", model=\"facebook/bart-large-cnn\")\n",
        "\n",
        "    def summarize_article(self, url):\n",
        "\n",
        "        try:\n",
        "\n",
        "            article = Article(url)\n",
        "            article.download()\n",
        "            article.parse()\n",
        "            text = article.text[:1024]  # limit to model input size, (1024)\n",
        "            summary = self.summarizer(text, max_length=100, min_length=30, do_sample=False)[0]['summary_text']\n",
        "\n",
        "            return article.title, summary, url\n",
        "\n",
        "        except Exception as e:\n",
        "\n",
        "            return \"Failed to load\", str(e), url\n",
        "\n",
        "\n",
        "# 4. CompilerAgent\n",
        "class CompilerAgent:\n",
        "\n",
        "    def compile_newsletter(self, topic, summaries):\n",
        "\n",
        "        response = f\"# Hey Alex! Here's what's going on today in the world of {topic}\\n\\n\"\n",
        "\n",
        "        for i, (title, summary, url) in enumerate(summaries, 1):\n",
        "\n",
        "            # gives #th and article title\n",
        "            response += f\"## {i}. {title}\\n\"\n",
        "\n",
        "            # gives summary blurb\n",
        "            response += f\"{summary}\\n\\n\"\n",
        "\n",
        "            # 'read more' link\n",
        "            response += f\"[Read more]({url})\\n\\n---\\n\"\n",
        "\n",
        "        return response\n",
        "\n",
        "\n",
        "# runs an 'Agentic' style workflow\n",
        "\n",
        "planner = PlannerAgent()\n",
        "\n",
        "searcher = SearcherAgent()\n",
        "\n",
        "summarizer = SummarizerAgent()\n",
        "\n",
        "compiler = CompilerAgent()\n",
        "\n",
        "\n",
        "topic = planner.decide_topic()\n",
        "print(f\"* PlannerAgent chose topic: {topic}.\")\n",
        "\n",
        "urls = searcher.search_articles(topic)\n",
        "print(f\"* SearcherAgent grabbed {len(urls)} articles.\")\n",
        "\n",
        "summaries = [summarizer.summarize_article(url) for url in urls]\n",
        "\n",
        "newsletter = compiler.compile_newsletter(topic, summaries)\n",
        "\n",
        "display(Markdown(newsletter))"
      ],
      "metadata": {
        "colab": {
          "base_uri": "https://localhost:8080/",
          "height": 503
        },
        "id": "3wzlFOJGYhJP",
        "outputId": "bdfa3262-094c-4327-de3d-1e24e871a8eb"
      },
      "execution_count": 114,
      "outputs": [
        {
          "output_type": "stream",
          "name": "stderr",
          "text": [
            "Device set to use cpu\n"
          ]
        },
        {
          "output_type": "stream",
          "name": "stdout",
          "text": [
            "* PlannerAgent chose topic: Space Exploration.\n",
            "* SearcherAgent grabbed 3 articles.\n"
          ]
        },
        {
          "output_type": "display_data",
          "data": {
            "text/plain": [
              "<IPython.core.display.Markdown object>"
            ],
            "text/markdown": "# Hey Alex! Here's what's going on today in the world of Space Exploration\n\n## 1. SpaceX CRS-32 Dragon cargo capsule arrives at the ISS with 6,700 pounds of supplies (video)\nA SpaceX Dragon cargo capsule has arrived at the International Space Station (ISS) this morning (April 22), wrapping up about 28 hours traveling on orbit. Dragon will deliver about 6,700 pounds (3,040 kilograms) of supplies to the astronauts currently living and working on the orbiting lab.\n\n[Read more](https://www.space.com/space-exploration/international-space-station/watch-spacex-dragon-cargo-capsule-arrive-at-the-iss-today)\n\n---\n## 2. It's alive! It's alive! Orion throws back its cover | Space picture of the day for April 22, 2025\nThe Orion Crew Module underwent a jettison test of its forward bay cover at NASA’s Neil Armstrong Test Facility in Sandusky, Ohio. The cover is the last component of the spacecraft that must eject before parachutes deploy to ensure a safe landing.\n\n[Read more](https://www.space.com/space-exploration/artemis/its-alive-its-alive-orion-throws-back-its-cover-space-picture-of-the-day-for-april-22-2025)\n\n---\n## 3. The Space Review: “A bonafide frigging flight”: How NS-31 broke spaceflight norms and created an online uproar\nThe six women who flew on Blue Origin’s New Shepard NS-31 mission April 14. Kerianne Flynn, Katy Perry, Lauren Sánchez, Aisha Bowe, Gayle King, and Amanda Nguyen.\n\n[Read more](https://www.thespacereview.com/article/4975/1)\n\n---\n"
          },
          "metadata": {}
        }
      ]
    }
  ]
}
